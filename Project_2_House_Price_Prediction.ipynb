{
 "cells": [
  {
   "cell_type": "markdown",
   "id": "80397196",
   "metadata": {},
   "source": [
    "## Project_2:House_price_prediction"
   ]
  },
  {
   "cell_type": "markdown",
   "id": "09a5d673",
   "metadata": {},
   "source": [
    "### Name: M. Pavan Ganesh"
   ]
  },
  {
   "cell_type": "markdown",
   "id": "50409571",
   "metadata": {},
   "source": [
    "#### Importing libraries"
   ]
  },
  {
   "cell_type": "code",
   "execution_count": 1,
   "id": "94287639",
   "metadata": {},
   "outputs": [],
   "source": [
    "import numpy as np\n",
    "import pandas as pd\n",
    "import matplotlib.pyplot as plt\n",
    "import seaborn as sns\n",
    "import warnings\n",
    "warnings.filterwarnings(\"ignore\")"
   ]
  },
  {
   "cell_type": "code",
   "execution_count": 4,
   "id": "b7d489fa",
   "metadata": {},
   "outputs": [],
   "source": [
    "#loading data\n",
    "df=pd.read_csv('House_Rent_Dataset.csv')\n"
   ]
  },
  {
   "cell_type": "code",
   "execution_count": 5,
   "id": "2d8057b9",
   "metadata": {},
   "outputs": [
    {
     "data": {
      "text/html": [
       "<div>\n",
       "<style scoped>\n",
       "    .dataframe tbody tr th:only-of-type {\n",
       "        vertical-align: middle;\n",
       "    }\n",
       "\n",
       "    .dataframe tbody tr th {\n",
       "        vertical-align: top;\n",
       "    }\n",
       "\n",
       "    .dataframe thead th {\n",
       "        text-align: right;\n",
       "    }\n",
       "</style>\n",
       "<table border=\"1\" class=\"dataframe\">\n",
       "  <thead>\n",
       "    <tr style=\"text-align: right;\">\n",
       "      <th></th>\n",
       "      <th>Posted On</th>\n",
       "      <th>BHK</th>\n",
       "      <th>Rent</th>\n",
       "      <th>Size</th>\n",
       "      <th>Floor</th>\n",
       "      <th>Area Type</th>\n",
       "      <th>Area Locality</th>\n",
       "      <th>City</th>\n",
       "      <th>Furnishing Status</th>\n",
       "      <th>Tenant Preferred</th>\n",
       "      <th>Bathroom</th>\n",
       "      <th>Point of Contact</th>\n",
       "    </tr>\n",
       "  </thead>\n",
       "  <tbody>\n",
       "    <tr>\n",
       "      <th>0</th>\n",
       "      <td>2022-05-18</td>\n",
       "      <td>2</td>\n",
       "      <td>10000</td>\n",
       "      <td>1100</td>\n",
       "      <td>Ground out of 2</td>\n",
       "      <td>Super Area</td>\n",
       "      <td>Bandel</td>\n",
       "      <td>Kolkata</td>\n",
       "      <td>Unfurnished</td>\n",
       "      <td>Bachelors/Family</td>\n",
       "      <td>2</td>\n",
       "      <td>Contact Owner</td>\n",
       "    </tr>\n",
       "    <tr>\n",
       "      <th>1</th>\n",
       "      <td>2022-05-13</td>\n",
       "      <td>2</td>\n",
       "      <td>20000</td>\n",
       "      <td>800</td>\n",
       "      <td>1 out of 3</td>\n",
       "      <td>Super Area</td>\n",
       "      <td>Phool Bagan, Kankurgachi</td>\n",
       "      <td>Kolkata</td>\n",
       "      <td>Semi-Furnished</td>\n",
       "      <td>Bachelors/Family</td>\n",
       "      <td>1</td>\n",
       "      <td>Contact Owner</td>\n",
       "    </tr>\n",
       "    <tr>\n",
       "      <th>2</th>\n",
       "      <td>2022-05-16</td>\n",
       "      <td>2</td>\n",
       "      <td>17000</td>\n",
       "      <td>1000</td>\n",
       "      <td>1 out of 3</td>\n",
       "      <td>Super Area</td>\n",
       "      <td>Salt Lake City Sector 2</td>\n",
       "      <td>Kolkata</td>\n",
       "      <td>Semi-Furnished</td>\n",
       "      <td>Bachelors/Family</td>\n",
       "      <td>1</td>\n",
       "      <td>Contact Owner</td>\n",
       "    </tr>\n",
       "    <tr>\n",
       "      <th>3</th>\n",
       "      <td>2022-07-04</td>\n",
       "      <td>2</td>\n",
       "      <td>10000</td>\n",
       "      <td>800</td>\n",
       "      <td>1 out of 2</td>\n",
       "      <td>Super Area</td>\n",
       "      <td>Dumdum Park</td>\n",
       "      <td>Kolkata</td>\n",
       "      <td>Unfurnished</td>\n",
       "      <td>Bachelors/Family</td>\n",
       "      <td>1</td>\n",
       "      <td>Contact Owner</td>\n",
       "    </tr>\n",
       "    <tr>\n",
       "      <th>4</th>\n",
       "      <td>2022-05-09</td>\n",
       "      <td>2</td>\n",
       "      <td>7500</td>\n",
       "      <td>850</td>\n",
       "      <td>1 out of 2</td>\n",
       "      <td>Carpet Area</td>\n",
       "      <td>South Dum Dum</td>\n",
       "      <td>Kolkata</td>\n",
       "      <td>Unfurnished</td>\n",
       "      <td>Bachelors</td>\n",
       "      <td>1</td>\n",
       "      <td>Contact Owner</td>\n",
       "    </tr>\n",
       "  </tbody>\n",
       "</table>\n",
       "</div>"
      ],
      "text/plain": [
       "    Posted On  BHK   Rent  Size            Floor    Area Type  \\\n",
       "0  2022-05-18    2  10000  1100  Ground out of 2   Super Area   \n",
       "1  2022-05-13    2  20000   800       1 out of 3   Super Area   \n",
       "2  2022-05-16    2  17000  1000       1 out of 3   Super Area   \n",
       "3  2022-07-04    2  10000   800       1 out of 2   Super Area   \n",
       "4  2022-05-09    2   7500   850       1 out of 2  Carpet Area   \n",
       "\n",
       "              Area Locality     City Furnishing Status  Tenant Preferred  \\\n",
       "0                    Bandel  Kolkata       Unfurnished  Bachelors/Family   \n",
       "1  Phool Bagan, Kankurgachi  Kolkata    Semi-Furnished  Bachelors/Family   \n",
       "2   Salt Lake City Sector 2  Kolkata    Semi-Furnished  Bachelors/Family   \n",
       "3               Dumdum Park  Kolkata       Unfurnished  Bachelors/Family   \n",
       "4             South Dum Dum  Kolkata       Unfurnished         Bachelors   \n",
       "\n",
       "   Bathroom Point of Contact  \n",
       "0         2    Contact Owner  \n",
       "1         1    Contact Owner  \n",
       "2         1    Contact Owner  \n",
       "3         1    Contact Owner  \n",
       "4         1    Contact Owner  "
      ]
     },
     "execution_count": 5,
     "metadata": {},
     "output_type": "execute_result"
    }
   ],
   "source": [
    "df.head()"
   ]
  },
  {
   "cell_type": "code",
   "execution_count": 6,
   "id": "f292fea4",
   "metadata": {},
   "outputs": [
    {
     "data": {
      "text/html": [
       "<div>\n",
       "<style scoped>\n",
       "    .dataframe tbody tr th:only-of-type {\n",
       "        vertical-align: middle;\n",
       "    }\n",
       "\n",
       "    .dataframe tbody tr th {\n",
       "        vertical-align: top;\n",
       "    }\n",
       "\n",
       "    .dataframe thead th {\n",
       "        text-align: right;\n",
       "    }\n",
       "</style>\n",
       "<table border=\"1\" class=\"dataframe\">\n",
       "  <thead>\n",
       "    <tr style=\"text-align: right;\">\n",
       "      <th></th>\n",
       "      <th>BHK</th>\n",
       "      <th>Rent</th>\n",
       "      <th>Size</th>\n",
       "      <th>Bathroom</th>\n",
       "    </tr>\n",
       "  </thead>\n",
       "  <tbody>\n",
       "    <tr>\n",
       "      <th>count</th>\n",
       "      <td>4746.000000</td>\n",
       "      <td>4.746000e+03</td>\n",
       "      <td>4746.000000</td>\n",
       "      <td>4746.000000</td>\n",
       "    </tr>\n",
       "    <tr>\n",
       "      <th>mean</th>\n",
       "      <td>2.083860</td>\n",
       "      <td>3.499345e+04</td>\n",
       "      <td>967.490729</td>\n",
       "      <td>1.965866</td>\n",
       "    </tr>\n",
       "    <tr>\n",
       "      <th>std</th>\n",
       "      <td>0.832256</td>\n",
       "      <td>7.810641e+04</td>\n",
       "      <td>634.202328</td>\n",
       "      <td>0.884532</td>\n",
       "    </tr>\n",
       "    <tr>\n",
       "      <th>min</th>\n",
       "      <td>1.000000</td>\n",
       "      <td>1.200000e+03</td>\n",
       "      <td>10.000000</td>\n",
       "      <td>1.000000</td>\n",
       "    </tr>\n",
       "    <tr>\n",
       "      <th>25%</th>\n",
       "      <td>2.000000</td>\n",
       "      <td>1.000000e+04</td>\n",
       "      <td>550.000000</td>\n",
       "      <td>1.000000</td>\n",
       "    </tr>\n",
       "    <tr>\n",
       "      <th>50%</th>\n",
       "      <td>2.000000</td>\n",
       "      <td>1.600000e+04</td>\n",
       "      <td>850.000000</td>\n",
       "      <td>2.000000</td>\n",
       "    </tr>\n",
       "    <tr>\n",
       "      <th>75%</th>\n",
       "      <td>3.000000</td>\n",
       "      <td>3.300000e+04</td>\n",
       "      <td>1200.000000</td>\n",
       "      <td>2.000000</td>\n",
       "    </tr>\n",
       "    <tr>\n",
       "      <th>max</th>\n",
       "      <td>6.000000</td>\n",
       "      <td>3.500000e+06</td>\n",
       "      <td>8000.000000</td>\n",
       "      <td>10.000000</td>\n",
       "    </tr>\n",
       "  </tbody>\n",
       "</table>\n",
       "</div>"
      ],
      "text/plain": [
       "               BHK          Rent         Size     Bathroom\n",
       "count  4746.000000  4.746000e+03  4746.000000  4746.000000\n",
       "mean      2.083860  3.499345e+04   967.490729     1.965866\n",
       "std       0.832256  7.810641e+04   634.202328     0.884532\n",
       "min       1.000000  1.200000e+03    10.000000     1.000000\n",
       "25%       2.000000  1.000000e+04   550.000000     1.000000\n",
       "50%       2.000000  1.600000e+04   850.000000     2.000000\n",
       "75%       3.000000  3.300000e+04  1200.000000     2.000000\n",
       "max       6.000000  3.500000e+06  8000.000000    10.000000"
      ]
     },
     "execution_count": 6,
     "metadata": {},
     "output_type": "execute_result"
    }
   ],
   "source": [
    "df.describe()"
   ]
  },
  {
   "cell_type": "code",
   "execution_count": 7,
   "id": "1c6184b8",
   "metadata": {},
   "outputs": [
    {
     "name": "stdout",
     "output_type": "stream",
     "text": [
      "<class 'pandas.core.frame.DataFrame'>\n",
      "RangeIndex: 4746 entries, 0 to 4745\n",
      "Data columns (total 12 columns):\n",
      " #   Column             Non-Null Count  Dtype \n",
      "---  ------             --------------  ----- \n",
      " 0   Posted On          4746 non-null   object\n",
      " 1   BHK                4746 non-null   int64 \n",
      " 2   Rent               4746 non-null   int64 \n",
      " 3   Size               4746 non-null   int64 \n",
      " 4   Floor              4746 non-null   object\n",
      " 5   Area Type          4746 non-null   object\n",
      " 6   Area Locality      4746 non-null   object\n",
      " 7   City               4746 non-null   object\n",
      " 8   Furnishing Status  4746 non-null   object\n",
      " 9   Tenant Preferred   4746 non-null   object\n",
      " 10  Bathroom           4746 non-null   int64 \n",
      " 11  Point of Contact   4746 non-null   object\n",
      "dtypes: int64(4), object(8)\n",
      "memory usage: 445.1+ KB\n"
     ]
    }
   ],
   "source": [
    "df.info()"
   ]
  },
  {
   "cell_type": "code",
   "execution_count": 8,
   "id": "4261801f",
   "metadata": {},
   "outputs": [
    {
     "data": {
      "text/plain": [
       "2    2265\n",
       "1    1167\n",
       "3    1098\n",
       "4     189\n",
       "5      19\n",
       "6       8\n",
       "Name: BHK, dtype: int64"
      ]
     },
     "execution_count": 8,
     "metadata": {},
     "output_type": "execute_result"
    }
   ],
   "source": [
    "df['BHK'].value_counts()"
   ]
  },
  {
   "cell_type": "code",
   "execution_count": 9,
   "id": "75dbaa79",
   "metadata": {},
   "outputs": [
    {
     "data": {
      "text/plain": [
       "2     2291\n",
       "1     1474\n",
       "3      749\n",
       "4      156\n",
       "5       60\n",
       "6       12\n",
       "7        3\n",
       "10       1\n",
       "Name: Bathroom, dtype: int64"
      ]
     },
     "execution_count": 9,
     "metadata": {},
     "output_type": "execute_result"
    }
   ],
   "source": [
    "df['Bathroom'].value_counts()"
   ]
  },
  {
   "cell_type": "code",
   "execution_count": 10,
   "id": "d7c630e4",
   "metadata": {},
   "outputs": [
    {
     "data": {
      "text/plain": [
       "<AxesSubplot:xlabel='Rent'>"
      ]
     },
     "execution_count": 10,
     "metadata": {},
     "output_type": "execute_result"
    },
    {
     "data": {
      "image/png": "[encoded data removed]",
      "text/plain": [
       "<Figure size 432x288 with 1 Axes>"
      ]
     },
     "metadata": {
      "needs_background": "light"
     },
     "output_type": "display_data"
    }
   ],
   "source": [
    "sns.boxplot(df['Rent'])"
   ]
  },
  {
   "cell_type": "code",
   "execution_count": 11,
   "id": "4c3e6271",
   "metadata": {},
   "outputs": [
    {
     "data": {
      "text/plain": [
       "<AxesSubplot:xlabel='Rent'>"
      ]
     },
     "execution_count": 11,
     "metadata": {},
     "output_type": "execute_result"
    },
    {
     "data": {
      "image/png": "[encoded data removed]",
      "text/plain": [
       "<Figure size 432x288 with 1 Axes>"
      ]
     },
     "metadata": {
      "needs_background": "light"
     },
     "output_type": "display_data"
    }
   ],
   "source": [
    "#Removing the Outlier\n",
    "df = df[df[\"Rent\"]<500000]\n",
    "sns.boxplot(df['Rent'])"
   ]
  },
  {
   "cell_type": "code",
   "execution_count": 12,
   "id": "562ffc17",
   "metadata": {},
   "outputs": [
    {
     "data": {
      "text/plain": [
       "<AxesSubplot:xlabel='BHK', ylabel='Rent'>"
      ]
     },
     "execution_count": 12,
     "metadata": {},
     "output_type": "execute_result"
    },
    {
     "data": {
      "image/png": "[encoded data removed]",
      "text/plain": [
       "<Figure size 432x288 with 1 Axes>"
      ]
     },
     "metadata": {
      "needs_background": "light"
     },
     "output_type": "display_data"
    }
   ],
   "source": [
    "sns.boxplot(df[\"BHK\"],df[\"Rent\"])"
   ]
  },
  {
   "cell_type": "code",
   "execution_count": 13,
   "id": "bef6919b",
   "metadata": {},
   "outputs": [
    {
     "data": {
      "text/plain": [
       "<seaborn.axisgrid.FacetGrid at 0x20973b27940>"
      ]
     },
     "execution_count": 13,
     "metadata": {},
     "output_type": "execute_result"
    },
    {
     "data": {
      "image/png": "[encoded data removed]",
      "text/plain": [
       "<Figure size 360x360 with 1 Axes>"
      ]
     },
     "metadata": {
      "needs_background": "light"
     },
     "output_type": "display_data"
    }
   ],
   "source": [
    "sns.displot(df['Rent'])"
   ]
  },
  {
   "cell_type": "code",
   "execution_count": 14,
   "id": "b7a995bf",
   "metadata": {},
   "outputs": [
    {
     "data": {
      "text/plain": [
       "<AxesSubplot:xlabel='Area Type', ylabel='Rent'>"
      ]
     },
     "execution_count": 14,
     "metadata": {},
     "output_type": "execute_result"
    },
    {
     "data": {
      "image/png": "[encoded data removed]",
      "text/plain": [
       "<Figure size 432x288 with 1 Axes>"
      ]
     },
     "metadata": {
      "needs_background": "light"
     },
     "output_type": "display_data"
    }
   ],
   "source": [
    "sns.barplot(df['Area Type'],df['Rent'])\n",
    "#This indicates Rent is higher for Area Type as Carpet Area"
   ]
  },
  {
   "cell_type": "code",
   "execution_count": 15,
   "id": "8a306d3b",
   "metadata": {},
   "outputs": [
    {
     "data": {
      "text/plain": [
       "<AxesSubplot:xlabel='Furnishing Status', ylabel='Rent'>"
      ]
     },
     "execution_count": 15,
     "metadata": {},
     "output_type": "execute_result"
    },
    {
     "data": {
      "image/png": "[encoded data removed]",
      "text/plain": [
       "<Figure size 432x288 with 1 Axes>"
      ]
     },
     "metadata": {
      "needs_background": "light"
     },
     "output_type": "display_data"
    }
   ],
   "source": [
    "sns.barplot(df['Furnishing Status'],df['Rent'])\n",
    "#this shows furnished houses have more Rent"
   ]
  },
  {
   "cell_type": "code",
   "execution_count": 16,
   "id": "a14112a6",
   "metadata": {},
   "outputs": [
    {
     "data": {
      "text/plain": [
       "Mumbai       962\n",
       "Chennai      890\n",
       "Bangalore    885\n",
       "Hyderabad    868\n",
       "Delhi        604\n",
       "Kolkata      524\n",
       "Name: City, dtype: int64"
      ]
     },
     "execution_count": 16,
     "metadata": {},
     "output_type": "execute_result"
    }
   ],
   "source": [
    "df[\"City\"].value_counts()\n",
    "#One Hot Encoding can be applied here"
   ]
  },
  {
   "cell_type": "code",
   "execution_count": 17,
   "id": "60b0bbd4",
   "metadata": {},
   "outputs": [
    {
     "data": {
      "text/plain": [
       "Bachelors/Family    3435\n",
       "Bachelors            827\n",
       "Family               471\n",
       "Name: Tenant Preferred, dtype: int64"
      ]
     },
     "execution_count": 17,
     "metadata": {},
     "output_type": "execute_result"
    }
   ],
   "source": [
    "df[\"Tenant Preferred\"].value_counts()\n"
   ]
  },
  {
   "cell_type": "markdown",
   "id": "02d41392",
   "metadata": {},
   "source": [
    "# Cleaning data"
   ]
  },
  {
   "cell_type": "markdown",
   "id": "d9286fdd",
   "metadata": {},
   "source": [
    "### Converting all the House Size into Super Built Up Area Type size"
   ]
  },
  {
   "cell_type": "code",
   "execution_count": 18,
   "id": "651f4e62",
   "metadata": {},
   "outputs": [],
   "source": [
    "def Area_conv(cols):\n",
    "    area_type =cols[0]\n",
    "    size = cols[1]\n",
    "    \n",
    "    if(area_type=='Carpet Area'):\n",
    "            return size*1.5\n",
    "    elif(area_type=='Built Area'):\n",
    "            return size*1.4\n",
    "    else:\n",
    "            return size"
   ]
  },
  {
   "cell_type": "code",
   "execution_count": 19,
   "id": "ae23f82e",
   "metadata": {},
   "outputs": [],
   "source": [
    "df[\"Size\"] =df[[\"Area Type\", \"Size\"]].apply(Area_conv, axis=1)\n",
    "#Now all the Size has been converted into super built up area format"
   ]
  },
  {
   "cell_type": "code",
   "execution_count": 20,
   "id": "f999bcef",
   "metadata": {},
   "outputs": [
    {
     "data": {
      "text/plain": [
       "<AxesSubplot:xlabel='Size', ylabel='Rent'>"
      ]
     },
     "execution_count": 20,
     "metadata": {},
     "output_type": "execute_result"
    },
    {
     "data": {
      "image/png": "[encoded data removed]",
      "text/plain": [
       "<Figure size 432x288 with 1 Axes>"
      ]
     },
     "metadata": {
      "needs_background": "light"
     },
     "output_type": "display_data"
    }
   ],
   "source": [
    "sns.scatterplot(df['Size'],df['Rent'])"
   ]
  },
  {
   "cell_type": "code",
   "execution_count": 21,
   "id": "226744e0",
   "metadata": {},
   "outputs": [
    {
     "name": "stdout",
     "output_type": "stream",
     "text": [
      "['0' '1' '2' '4' '3' '5' '7' '8' 'Upper' '11' 'Lower' '6' '14' '43' '13'\n",
      " '18' '17' '9' '19' '60' '34' '12' '26' '25' '53' '16' '10' '39' '32' '47'\n",
      " '28' '20' '15' '65' '40' '37' '22' '21' '30' '35' '33' '44' '41' '46'\n",
      " '27' '45' '48' '50' '24' '23' '29' '49' '36' '76']\n",
      "['2' '3' '1' '4' '5' '14' '8' '6' '19' '10' '7' '13' '78' '18' '12' '24'\n",
      " '31' '21' '23' '20' '9' '22' '58' '16' '66' '48' '40' '44' '42' '41' '60'\n",
      " '32' '30' '29' '89' '15' '11' '28' '17' '45' '35' '75' '38' '51' '43'\n",
      " '25' '27' '26' '76' '36' '37' '55' '68' '77' '50' '59' '62' '39' '52'\n",
      " '54' '33' '46' '85' '71' '81' '34' '0']\n"
     ]
    }
   ],
   "source": [
    "df[\"Floor\"] = df[\"Floor\"].str.replace(\"Ground\",\"0\")\n",
    "df[\"House Floor\"] = df[\"Floor\"].str.split(\" \").str.get(0)\n",
    "df[\"Total Floors\"] = df[\"Floor\"].str.split(\" \").str.get(-1)\n",
    "\n",
    "print(df[\"House Floor\"].unique())\n",
    "print(df[\"Total Floors\"].unique())\n",
    "df.drop(['Floor'],axis=1,inplace=True)\n",
    "\n",
    "df[\"House Floor\"] = df[\"House Floor\"].replace(\"Lower\",\"0\")"
   ]
  },
  {
   "cell_type": "code",
   "execution_count": 22,
   "id": "e8e8de8f",
   "metadata": {},
   "outputs": [
    {
     "data": {
      "text/plain": [
       "array(['0', '1', '2', '4', '3', '5', '7', '8', '11', '6', '14', '43',\n",
       "       '13', '18', '17', '9', '19', '16', '60', '34', '12', '26', '25',\n",
       "       '53', '10', '39', '32', '47', '28', '20', '40', '15', '65', '37',\n",
       "       '30', '22', '21', '35', '33', '44', '41', '46', '27', '45', '48',\n",
       "       '50', '24', '23', '29', '49', '36', '76'], dtype=object)"
      ]
     },
     "execution_count": 22,
     "metadata": {},
     "output_type": "execute_result"
    }
   ],
   "source": [
    "df.loc[df[\"House Floor\"] == \"Upper\", \"House Floor\"] = df.loc[df[\"House Floor\"]==\"Upper\", \"Total Floors\"]\n",
    "df[\"House Floor\"].unique()"
   ]
  },
  {
   "cell_type": "code",
   "execution_count": 23,
   "id": "a8df3cf8",
   "metadata": {},
   "outputs": [],
   "source": [
    "df[\"House Floor\"] = df[\"House Floor\"].astype(int) \n",
    "df[\"Total Floors\"] = df[\"Total Floors\"].astype(int)"
   ]
  },
  {
   "cell_type": "code",
   "execution_count": 24,
   "id": "63df76a5",
   "metadata": {},
   "outputs": [
    {
     "data": {
      "text/plain": [
       "Bandra West                                           36\n",
       "Gachibowli                                            29\n",
       "Electronic City                                       24\n",
       "Velachery                                             22\n",
       "Miyapur, NH 9                                         22\n",
       "                                                      ..\n",
       "Hindu Colony                                           1\n",
       "sarsuna banerjee para                                  1\n",
       "Kacharakanahalli                                       1\n",
       "Delhi estate Apartment                                 1\n",
       "Hiranandani Gardens Odyssey I, Hiranandani Gardens     1\n",
       "Name: Area Locality, Length: 2229, dtype: int64"
      ]
     },
     "execution_count": 24,
     "metadata": {},
     "output_type": "execute_result"
    }
   ],
   "source": [
    "df[\"Area Locality\"].value_counts()"
   ]
  },
  {
   "cell_type": "code",
   "execution_count": 25,
   "id": "b54ca7aa",
   "metadata": {},
   "outputs": [
    {
     "data": {
      "text/plain": [
       "Himayath Nagar, NH 7                                  9\n",
       "Baghajatin                                            9\n",
       "Nizampet                                              9\n",
       "Koramangala                                           9\n",
       "Salt Lake City                                        9\n",
       "                                                     ..\n",
       "Garia Dhalua Nabapally                                1\n",
       "Hindu Colony                                          1\n",
       "sarsuna banerjee para                                 1\n",
       "Kacharakanahalli                                      1\n",
       "Hiranandani Gardens Odyssey I, Hiranandani Gardens    1\n",
       "Name: Area Locality, Length: 2165, dtype: int64"
      ]
     },
     "execution_count": 25,
     "metadata": {},
     "output_type": "execute_result"
    }
   ],
   "source": [
    "df[\"Area Locality\"]= df[\"Area Locality\"].apply(lambda x: x.strip())\n",
    "area_count = df[\"Area Locality\"].value_counts()\n",
    "area_count_less10 = area_count[area_count<10]\n",
    "area_count_less10 "
   ]
  },
  {
   "cell_type": "code",
   "execution_count": 26,
   "id": "e50b16a1",
   "metadata": {},
   "outputs": [
    {
     "data": {
      "text/plain": [
       "other                              3848\n",
       "Bandra West                          36\n",
       "Gachibowli                           29\n",
       "Electronic City                      24\n",
       "Miyapur, NH 9                        22\n",
       "                                   ... \n",
       "Paschim Vihar                        10\n",
       "Thiruvanmiyur                        10\n",
       "Rajajinagar                          10\n",
       "Adyar, Sardar Patel Road             10\n",
       "Arjun Nagar, Safdarjung Enclave      10\n",
       "Name: Area Locality, Length: 64, dtype: int64"
      ]
     },
     "execution_count": 26,
     "metadata": {},
     "output_type": "execute_result"
    }
   ],
   "source": [
    "df[\"Area Locality\"] = df[\"Area Locality\"].apply(lambda x: 'other' if x in area_count_less10 else x)\n",
    "df[\"Area Locality\"].value_counts()"
   ]
  },
  {
   "cell_type": "code",
   "execution_count": 27,
   "id": "72c32715",
   "metadata": {},
   "outputs": [],
   "source": [
    "df.drop([\"Posted On\"],axis=1,inplace=True)"
   ]
  },
  {
   "cell_type": "code",
   "execution_count": 28,
   "id": "dc2db49d",
   "metadata": {},
   "outputs": [
    {
     "data": {
      "text/html": [
       "<div>\n",
       "<style scoped>\n",
       "    .dataframe tbody tr th:only-of-type {\n",
       "        vertical-align: middle;\n",
       "    }\n",
       "\n",
       "    .dataframe tbody tr th {\n",
       "        vertical-align: top;\n",
       "    }\n",
       "\n",
       "    .dataframe thead th {\n",
       "        text-align: right;\n",
       "    }\n",
       "</style>\n",
       "<table border=\"1\" class=\"dataframe\">\n",
       "  <thead>\n",
       "    <tr style=\"text-align: right;\">\n",
       "      <th></th>\n",
       "      <th>BHK</th>\n",
       "      <th>Rent</th>\n",
       "      <th>Size</th>\n",
       "      <th>Bathroom</th>\n",
       "      <th>House Floor</th>\n",
       "      <th>Total Floors</th>\n",
       "    </tr>\n",
       "  </thead>\n",
       "  <tbody>\n",
       "    <tr>\n",
       "      <th>BHK</th>\n",
       "      <td>1.000000</td>\n",
       "      <td>0.500495</td>\n",
       "      <td>0.703589</td>\n",
       "      <td>0.791058</td>\n",
       "      <td>0.219796</td>\n",
       "      <td>0.245135</td>\n",
       "    </tr>\n",
       "    <tr>\n",
       "      <th>Rent</th>\n",
       "      <td>0.500495</td>\n",
       "      <td>1.000000</td>\n",
       "      <td>0.589589</td>\n",
       "      <td>0.612033</td>\n",
       "      <td>0.501731</td>\n",
       "      <td>0.542902</td>\n",
       "    </tr>\n",
       "    <tr>\n",
       "      <th>Size</th>\n",
       "      <td>0.703589</td>\n",
       "      <td>0.589589</td>\n",
       "      <td>1.000000</td>\n",
       "      <td>0.733493</td>\n",
       "      <td>0.234580</td>\n",
       "      <td>0.260725</td>\n",
       "    </tr>\n",
       "    <tr>\n",
       "      <th>Bathroom</th>\n",
       "      <td>0.791058</td>\n",
       "      <td>0.612033</td>\n",
       "      <td>0.733493</td>\n",
       "      <td>1.000000</td>\n",
       "      <td>0.328272</td>\n",
       "      <td>0.360741</td>\n",
       "    </tr>\n",
       "    <tr>\n",
       "      <th>House Floor</th>\n",
       "      <td>0.219796</td>\n",
       "      <td>0.501731</td>\n",
       "      <td>0.234580</td>\n",
       "      <td>0.328272</td>\n",
       "      <td>1.000000</td>\n",
       "      <td>0.867877</td>\n",
       "    </tr>\n",
       "    <tr>\n",
       "      <th>Total Floors</th>\n",
       "      <td>0.245135</td>\n",
       "      <td>0.542902</td>\n",
       "      <td>0.260725</td>\n",
       "      <td>0.360741</td>\n",
       "      <td>0.867877</td>\n",
       "      <td>1.000000</td>\n",
       "    </tr>\n",
       "  </tbody>\n",
       "</table>\n",
       "</div>"
      ],
      "text/plain": [
       "                   BHK      Rent      Size  Bathroom  House Floor  \\\n",
       "BHK           1.000000  0.500495  0.703589  0.791058     0.219796   \n",
       "Rent          0.500495  1.000000  0.589589  0.612033     0.501731   \n",
       "Size          0.703589  0.589589  1.000000  0.733493     0.234580   \n",
       "Bathroom      0.791058  0.612033  0.733493  1.000000     0.328272   \n",
       "House Floor   0.219796  0.501731  0.234580  0.328272     1.000000   \n",
       "Total Floors  0.245135  0.542902  0.260725  0.360741     0.867877   \n",
       "\n",
       "              Total Floors  \n",
       "BHK               0.245135  \n",
       "Rent              0.542902  \n",
       "Size              0.260725  \n",
       "Bathroom          0.360741  \n",
       "House Floor       0.867877  \n",
       "Total Floors      1.000000  "
      ]
     },
     "execution_count": 28,
     "metadata": {},
     "output_type": "execute_result"
    }
   ],
   "source": [
    "df.corr()"
   ]
  },
  {
   "cell_type": "code",
   "execution_count": 29,
   "id": "78a4dee0",
   "metadata": {},
   "outputs": [
    {
     "data": {
      "text/html": [
       "<div>\n",
       "<style scoped>\n",
       "    .dataframe tbody tr th:only-of-type {\n",
       "        vertical-align: middle;\n",
       "    }\n",
       "\n",
       "    .dataframe tbody tr th {\n",
       "        vertical-align: top;\n",
       "    }\n",
       "\n",
       "    .dataframe thead th {\n",
       "        text-align: right;\n",
       "    }\n",
       "</style>\n",
       "<table border=\"1\" class=\"dataframe\">\n",
       "  <thead>\n",
       "    <tr style=\"text-align: right;\">\n",
       "      <th></th>\n",
       "      <th>BHK</th>\n",
       "      <th>Rent</th>\n",
       "      <th>Size</th>\n",
       "      <th>Area Type</th>\n",
       "      <th>Area Locality</th>\n",
       "      <th>City</th>\n",
       "      <th>Furnishing Status</th>\n",
       "      <th>Tenant Preferred</th>\n",
       "      <th>Bathroom</th>\n",
       "      <th>Point of Contact</th>\n",
       "      <th>House Floor</th>\n",
       "      <th>Total Floors</th>\n",
       "    </tr>\n",
       "  </thead>\n",
       "  <tbody>\n",
       "    <tr>\n",
       "      <th>0</th>\n",
       "      <td>2</td>\n",
       "      <td>10000</td>\n",
       "      <td>1100.0</td>\n",
       "      <td>Super Area</td>\n",
       "      <td>other</td>\n",
       "      <td>Kolkata</td>\n",
       "      <td>Unfurnished</td>\n",
       "      <td>Bachelors/Family</td>\n",
       "      <td>2</td>\n",
       "      <td>Contact Owner</td>\n",
       "      <td>0</td>\n",
       "      <td>2</td>\n",
       "    </tr>\n",
       "    <tr>\n",
       "      <th>1</th>\n",
       "      <td>2</td>\n",
       "      <td>20000</td>\n",
       "      <td>800.0</td>\n",
       "      <td>Super Area</td>\n",
       "      <td>other</td>\n",
       "      <td>Kolkata</td>\n",
       "      <td>Semi-Furnished</td>\n",
       "      <td>Bachelors/Family</td>\n",
       "      <td>1</td>\n",
       "      <td>Contact Owner</td>\n",
       "      <td>1</td>\n",
       "      <td>3</td>\n",
       "    </tr>\n",
       "    <tr>\n",
       "      <th>2</th>\n",
       "      <td>2</td>\n",
       "      <td>17000</td>\n",
       "      <td>1000.0</td>\n",
       "      <td>Super Area</td>\n",
       "      <td>Salt Lake City Sector 2</td>\n",
       "      <td>Kolkata</td>\n",
       "      <td>Semi-Furnished</td>\n",
       "      <td>Bachelors/Family</td>\n",
       "      <td>1</td>\n",
       "      <td>Contact Owner</td>\n",
       "      <td>1</td>\n",
       "      <td>3</td>\n",
       "    </tr>\n",
       "    <tr>\n",
       "      <th>3</th>\n",
       "      <td>2</td>\n",
       "      <td>10000</td>\n",
       "      <td>800.0</td>\n",
       "      <td>Super Area</td>\n",
       "      <td>other</td>\n",
       "      <td>Kolkata</td>\n",
       "      <td>Unfurnished</td>\n",
       "      <td>Bachelors/Family</td>\n",
       "      <td>1</td>\n",
       "      <td>Contact Owner</td>\n",
       "      <td>1</td>\n",
       "      <td>2</td>\n",
       "    </tr>\n",
       "    <tr>\n",
       "      <th>4</th>\n",
       "      <td>2</td>\n",
       "      <td>7500</td>\n",
       "      <td>1275.0</td>\n",
       "      <td>Carpet Area</td>\n",
       "      <td>other</td>\n",
       "      <td>Kolkata</td>\n",
       "      <td>Unfurnished</td>\n",
       "      <td>Bachelors</td>\n",
       "      <td>1</td>\n",
       "      <td>Contact Owner</td>\n",
       "      <td>1</td>\n",
       "      <td>2</td>\n",
       "    </tr>\n",
       "    <tr>\n",
       "      <th>...</th>\n",
       "      <td>...</td>\n",
       "      <td>...</td>\n",
       "      <td>...</td>\n",
       "      <td>...</td>\n",
       "      <td>...</td>\n",
       "      <td>...</td>\n",
       "      <td>...</td>\n",
       "      <td>...</td>\n",
       "      <td>...</td>\n",
       "      <td>...</td>\n",
       "      <td>...</td>\n",
       "      <td>...</td>\n",
       "    </tr>\n",
       "    <tr>\n",
       "      <th>4741</th>\n",
       "      <td>2</td>\n",
       "      <td>15000</td>\n",
       "      <td>1500.0</td>\n",
       "      <td>Carpet Area</td>\n",
       "      <td>other</td>\n",
       "      <td>Hyderabad</td>\n",
       "      <td>Semi-Furnished</td>\n",
       "      <td>Bachelors/Family</td>\n",
       "      <td>2</td>\n",
       "      <td>Contact Owner</td>\n",
       "      <td>3</td>\n",
       "      <td>5</td>\n",
       "    </tr>\n",
       "    <tr>\n",
       "      <th>4742</th>\n",
       "      <td>3</td>\n",
       "      <td>29000</td>\n",
       "      <td>2000.0</td>\n",
       "      <td>Super Area</td>\n",
       "      <td>other</td>\n",
       "      <td>Hyderabad</td>\n",
       "      <td>Semi-Furnished</td>\n",
       "      <td>Bachelors/Family</td>\n",
       "      <td>3</td>\n",
       "      <td>Contact Owner</td>\n",
       "      <td>1</td>\n",
       "      <td>4</td>\n",
       "    </tr>\n",
       "    <tr>\n",
       "      <th>4743</th>\n",
       "      <td>3</td>\n",
       "      <td>35000</td>\n",
       "      <td>2625.0</td>\n",
       "      <td>Carpet Area</td>\n",
       "      <td>other</td>\n",
       "      <td>Hyderabad</td>\n",
       "      <td>Semi-Furnished</td>\n",
       "      <td>Bachelors/Family</td>\n",
       "      <td>3</td>\n",
       "      <td>Contact Agent</td>\n",
       "      <td>3</td>\n",
       "      <td>5</td>\n",
       "    </tr>\n",
       "    <tr>\n",
       "      <th>4744</th>\n",
       "      <td>3</td>\n",
       "      <td>45000</td>\n",
       "      <td>2250.0</td>\n",
       "      <td>Carpet Area</td>\n",
       "      <td>Gachibowli</td>\n",
       "      <td>Hyderabad</td>\n",
       "      <td>Semi-Furnished</td>\n",
       "      <td>Family</td>\n",
       "      <td>2</td>\n",
       "      <td>Contact Agent</td>\n",
       "      <td>23</td>\n",
       "      <td>34</td>\n",
       "    </tr>\n",
       "    <tr>\n",
       "      <th>4745</th>\n",
       "      <td>2</td>\n",
       "      <td>15000</td>\n",
       "      <td>1500.0</td>\n",
       "      <td>Carpet Area</td>\n",
       "      <td>other</td>\n",
       "      <td>Hyderabad</td>\n",
       "      <td>Unfurnished</td>\n",
       "      <td>Bachelors</td>\n",
       "      <td>2</td>\n",
       "      <td>Contact Owner</td>\n",
       "      <td>4</td>\n",
       "      <td>5</td>\n",
       "    </tr>\n",
       "  </tbody>\n",
       "</table>\n",
       "<p>4733 rows × 12 columns</p>\n",
       "</div>"
      ],
      "text/plain": [
       "      BHK   Rent    Size    Area Type            Area Locality       City  \\\n",
       "0       2  10000  1100.0   Super Area                    other    Kolkata   \n",
       "1       2  20000   800.0   Super Area                    other    Kolkata   \n",
       "2       2  17000  1000.0   Super Area  Salt Lake City Sector 2    Kolkata   \n",
       "3       2  10000   800.0   Super Area                    other    Kolkata   \n",
       "4       2   7500  1275.0  Carpet Area                    other    Kolkata   \n",
       "...   ...    ...     ...          ...                      ...        ...   \n",
       "4741    2  15000  1500.0  Carpet Area                    other  Hyderabad   \n",
       "4742    3  29000  2000.0   Super Area                    other  Hyderabad   \n",
       "4743    3  35000  2625.0  Carpet Area                    other  Hyderabad   \n",
       "4744    3  45000  2250.0  Carpet Area               Gachibowli  Hyderabad   \n",
       "4745    2  15000  1500.0  Carpet Area                    other  Hyderabad   \n",
       "\n",
       "     Furnishing Status  Tenant Preferred  Bathroom Point of Contact  \\\n",
       "0          Unfurnished  Bachelors/Family         2    Contact Owner   \n",
       "1       Semi-Furnished  Bachelors/Family         1    Contact Owner   \n",
       "2       Semi-Furnished  Bachelors/Family         1    Contact Owner   \n",
       "3          Unfurnished  Bachelors/Family         1    Contact Owner   \n",
       "4          Unfurnished         Bachelors         1    Contact Owner   \n",
       "...                ...               ...       ...              ...   \n",
       "4741    Semi-Furnished  Bachelors/Family         2    Contact Owner   \n",
       "4742    Semi-Furnished  Bachelors/Family         3    Contact Owner   \n",
       "4743    Semi-Furnished  Bachelors/Family         3    Contact Agent   \n",
       "4744    Semi-Furnished            Family         2    Contact Agent   \n",
       "4745       Unfurnished         Bachelors         2    Contact Owner   \n",
       "\n",
       "      House Floor  Total Floors  \n",
       "0               0             2  \n",
       "1               1             3  \n",
       "2               1             3  \n",
       "3               1             2  \n",
       "4               1             2  \n",
       "...           ...           ...  \n",
       "4741            3             5  \n",
       "4742            1             4  \n",
       "4743            3             5  \n",
       "4744           23            34  \n",
       "4745            4             5  \n",
       "\n",
       "[4733 rows x 12 columns]"
      ]
     },
     "execution_count": 29,
     "metadata": {},
     "output_type": "execute_result"
    }
   ],
   "source": [
    "df\n",
    "# Encoding\n",
    "#nominal categories : Area Locality, City, Tenant Preferred, Point of Contact\n",
    "#Ordinal categories: Furnishing status, Area Type"
   ]
  },
  {
   "cell_type": "code",
   "execution_count": 30,
   "id": "2adf8f40",
   "metadata": {},
   "outputs": [
    {
     "data": {
      "text/html": [
       "<div>\n",
       "<style scoped>\n",
       "    .dataframe tbody tr th:only-of-type {\n",
       "        vertical-align: middle;\n",
       "    }\n",
       "\n",
       "    .dataframe tbody tr th {\n",
       "        vertical-align: top;\n",
       "    }\n",
       "\n",
       "    .dataframe thead th {\n",
       "        text-align: right;\n",
       "    }\n",
       "</style>\n",
       "<table border=\"1\" class=\"dataframe\">\n",
       "  <thead>\n",
       "    <tr style=\"text-align: right;\">\n",
       "      <th></th>\n",
       "      <th>BHK</th>\n",
       "      <th>Rent</th>\n",
       "      <th>Size</th>\n",
       "      <th>Bathroom</th>\n",
       "      <th>House Floor</th>\n",
       "      <th>Total Floors</th>\n",
       "    </tr>\n",
       "  </thead>\n",
       "  <tbody>\n",
       "    <tr>\n",
       "      <th>count</th>\n",
       "      <td>4733.000000</td>\n",
       "      <td>4733.000000</td>\n",
       "      <td>4733.000000</td>\n",
       "      <td>4733.000000</td>\n",
       "      <td>4733.000000</td>\n",
       "      <td>4733.000000</td>\n",
       "    </tr>\n",
       "    <tr>\n",
       "      <th>mean</th>\n",
       "      <td>2.078386</td>\n",
       "      <td>32552.064230</td>\n",
       "      <td>1204.938306</td>\n",
       "      <td>1.959645</td>\n",
       "      <td>3.492288</td>\n",
       "      <td>6.949292</td>\n",
       "    </tr>\n",
       "    <tr>\n",
       "      <th>std</th>\n",
       "      <td>0.825666</td>\n",
       "      <td>48182.337048</td>\n",
       "      <td>859.137211</td>\n",
       "      <td>0.876491</td>\n",
       "      <td>5.830969</td>\n",
       "      <td>9.454208</td>\n",
       "    </tr>\n",
       "    <tr>\n",
       "      <th>min</th>\n",
       "      <td>1.000000</td>\n",
       "      <td>1200.000000</td>\n",
       "      <td>15.000000</td>\n",
       "      <td>1.000000</td>\n",
       "      <td>0.000000</td>\n",
       "      <td>0.000000</td>\n",
       "    </tr>\n",
       "    <tr>\n",
       "      <th>25%</th>\n",
       "      <td>2.000000</td>\n",
       "      <td>10000.000000</td>\n",
       "      <td>675.000000</td>\n",
       "      <td>1.000000</td>\n",
       "      <td>1.000000</td>\n",
       "      <td>2.000000</td>\n",
       "    </tr>\n",
       "    <tr>\n",
       "      <th>50%</th>\n",
       "      <td>2.000000</td>\n",
       "      <td>16000.000000</td>\n",
       "      <td>1000.000000</td>\n",
       "      <td>2.000000</td>\n",
       "      <td>2.000000</td>\n",
       "      <td>4.000000</td>\n",
       "    </tr>\n",
       "    <tr>\n",
       "      <th>75%</th>\n",
       "      <td>3.000000</td>\n",
       "      <td>32000.000000</td>\n",
       "      <td>1500.000000</td>\n",
       "      <td>2.000000</td>\n",
       "      <td>3.000000</td>\n",
       "      <td>6.000000</td>\n",
       "    </tr>\n",
       "    <tr>\n",
       "      <th>max</th>\n",
       "      <td>6.000000</td>\n",
       "      <td>450000.000000</td>\n",
       "      <td>10500.000000</td>\n",
       "      <td>10.000000</td>\n",
       "      <td>76.000000</td>\n",
       "      <td>89.000000</td>\n",
       "    </tr>\n",
       "  </tbody>\n",
       "</table>\n",
       "</div>"
      ],
      "text/plain": [
       "               BHK           Rent          Size     Bathroom  House Floor  \\\n",
       "count  4733.000000    4733.000000   4733.000000  4733.000000  4733.000000   \n",
       "mean      2.078386   32552.064230   1204.938306     1.959645     3.492288   \n",
       "std       0.825666   48182.337048    859.137211     0.876491     5.830969   \n",
       "min       1.000000    1200.000000     15.000000     1.000000     0.000000   \n",
       "25%       2.000000   10000.000000    675.000000     1.000000     1.000000   \n",
       "50%       2.000000   16000.000000   1000.000000     2.000000     2.000000   \n",
       "75%       3.000000   32000.000000   1500.000000     2.000000     3.000000   \n",
       "max       6.000000  450000.000000  10500.000000    10.000000    76.000000   \n",
       "\n",
       "       Total Floors  \n",
       "count   4733.000000  \n",
       "mean       6.949292  \n",
       "std        9.454208  \n",
       "min        0.000000  \n",
       "25%        2.000000  \n",
       "50%        4.000000  \n",
       "75%        6.000000  \n",
       "max       89.000000  "
      ]
     },
     "execution_count": 30,
     "metadata": {},
     "output_type": "execute_result"
    }
   ],
   "source": [
    "df.describe()"
   ]
  },
  {
   "cell_type": "markdown",
   "id": "ecdae8b8",
   "metadata": {},
   "source": [
    "### CATEGORICAL ENCODING"
   ]
  },
  {
   "cell_type": "code",
   "execution_count": 31,
   "id": "42b9cf47",
   "metadata": {},
   "outputs": [],
   "source": [
    "from sklearn.compose import ColumnTransformer\n",
    "from sklearn.preprocessing import OneHotEncoder\n",
    "from sklearn.preprocessing import OrdinalEncoder"
   ]
  },
  {
   "cell_type": "code",
   "execution_count": 32,
   "id": "68f02121",
   "metadata": {},
   "outputs": [],
   "source": [
    "oe = OrdinalEncoder(categories=[['Unfurnished','Semi-Furnished','Furnished']])\n",
    "df[\"Furnishing Status\"] = oe.fit_transform(df[['Furnishing Status']])"
   ]
  },
  {
   "cell_type": "code",
   "execution_count": 33,
   "id": "6fe0e2cb",
   "metadata": {},
   "outputs": [],
   "source": [
    "oe = OrdinalEncoder(categories=[['Super Area','Built Area','Carpet Area']])\n",
    "df['Area Type'] = oe.fit_transform(df[['Area Type']])"
   ]
  },
  {
   "cell_type": "code",
   "execution_count": 34,
   "id": "8aafe19a",
   "metadata": {},
   "outputs": [
    {
     "data": {
      "text/html": [
       "<div>\n",
       "<style scoped>\n",
       "    .dataframe tbody tr th:only-of-type {\n",
       "        vertical-align: middle;\n",
       "    }\n",
       "\n",
       "    .dataframe tbody tr th {\n",
       "        vertical-align: top;\n",
       "    }\n",
       "\n",
       "    .dataframe thead th {\n",
       "        text-align: right;\n",
       "    }\n",
       "</style>\n",
       "<table border=\"1\" class=\"dataframe\">\n",
       "  <thead>\n",
       "    <tr style=\"text-align: right;\">\n",
       "      <th></th>\n",
       "      <th>BHK</th>\n",
       "      <th>Rent</th>\n",
       "      <th>Size</th>\n",
       "      <th>Area Type</th>\n",
       "      <th>Area Locality</th>\n",
       "      <th>City</th>\n",
       "      <th>Furnishing Status</th>\n",
       "      <th>Tenant Preferred</th>\n",
       "      <th>Bathroom</th>\n",
       "      <th>Point of Contact</th>\n",
       "      <th>House Floor</th>\n",
       "      <th>Total Floors</th>\n",
       "    </tr>\n",
       "  </thead>\n",
       "  <tbody>\n",
       "    <tr>\n",
       "      <th>0</th>\n",
       "      <td>2</td>\n",
       "      <td>10000</td>\n",
       "      <td>1100.0</td>\n",
       "      <td>0.0</td>\n",
       "      <td>other</td>\n",
       "      <td>Kolkata</td>\n",
       "      <td>0.0</td>\n",
       "      <td>Bachelors/Family</td>\n",
       "      <td>2</td>\n",
       "      <td>Contact Owner</td>\n",
       "      <td>0</td>\n",
       "      <td>2</td>\n",
       "    </tr>\n",
       "    <tr>\n",
       "      <th>1</th>\n",
       "      <td>2</td>\n",
       "      <td>20000</td>\n",
       "      <td>800.0</td>\n",
       "      <td>0.0</td>\n",
       "      <td>other</td>\n",
       "      <td>Kolkata</td>\n",
       "      <td>1.0</td>\n",
       "      <td>Bachelors/Family</td>\n",
       "      <td>1</td>\n",
       "      <td>Contact Owner</td>\n",
       "      <td>1</td>\n",
       "      <td>3</td>\n",
       "    </tr>\n",
       "    <tr>\n",
       "      <th>2</th>\n",
       "      <td>2</td>\n",
       "      <td>17000</td>\n",
       "      <td>1000.0</td>\n",
       "      <td>0.0</td>\n",
       "      <td>Salt Lake City Sector 2</td>\n",
       "      <td>Kolkata</td>\n",
       "      <td>1.0</td>\n",
       "      <td>Bachelors/Family</td>\n",
       "      <td>1</td>\n",
       "      <td>Contact Owner</td>\n",
       "      <td>1</td>\n",
       "      <td>3</td>\n",
       "    </tr>\n",
       "    <tr>\n",
       "      <th>3</th>\n",
       "      <td>2</td>\n",
       "      <td>10000</td>\n",
       "      <td>800.0</td>\n",
       "      <td>0.0</td>\n",
       "      <td>other</td>\n",
       "      <td>Kolkata</td>\n",
       "      <td>0.0</td>\n",
       "      <td>Bachelors/Family</td>\n",
       "      <td>1</td>\n",
       "      <td>Contact Owner</td>\n",
       "      <td>1</td>\n",
       "      <td>2</td>\n",
       "    </tr>\n",
       "    <tr>\n",
       "      <th>4</th>\n",
       "      <td>2</td>\n",
       "      <td>7500</td>\n",
       "      <td>1275.0</td>\n",
       "      <td>2.0</td>\n",
       "      <td>other</td>\n",
       "      <td>Kolkata</td>\n",
       "      <td>0.0</td>\n",
       "      <td>Bachelors</td>\n",
       "      <td>1</td>\n",
       "      <td>Contact Owner</td>\n",
       "      <td>1</td>\n",
       "      <td>2</td>\n",
       "    </tr>\n",
       "    <tr>\n",
       "      <th>...</th>\n",
       "      <td>...</td>\n",
       "      <td>...</td>\n",
       "      <td>...</td>\n",
       "      <td>...</td>\n",
       "      <td>...</td>\n",
       "      <td>...</td>\n",
       "      <td>...</td>\n",
       "      <td>...</td>\n",
       "      <td>...</td>\n",
       "      <td>...</td>\n",
       "      <td>...</td>\n",
       "      <td>...</td>\n",
       "    </tr>\n",
       "    <tr>\n",
       "      <th>4741</th>\n",
       "      <td>2</td>\n",
       "      <td>15000</td>\n",
       "      <td>1500.0</td>\n",
       "      <td>2.0</td>\n",
       "      <td>other</td>\n",
       "      <td>Hyderabad</td>\n",
       "      <td>1.0</td>\n",
       "      <td>Bachelors/Family</td>\n",
       "      <td>2</td>\n",
       "      <td>Contact Owner</td>\n",
       "      <td>3</td>\n",
       "      <td>5</td>\n",
       "    </tr>\n",
       "    <tr>\n",
       "      <th>4742</th>\n",
       "      <td>3</td>\n",
       "      <td>29000</td>\n",
       "      <td>2000.0</td>\n",
       "      <td>0.0</td>\n",
       "      <td>other</td>\n",
       "      <td>Hyderabad</td>\n",
       "      <td>1.0</td>\n",
       "      <td>Bachelors/Family</td>\n",
       "      <td>3</td>\n",
       "      <td>Contact Owner</td>\n",
       "      <td>1</td>\n",
       "      <td>4</td>\n",
       "    </tr>\n",
       "    <tr>\n",
       "      <th>4743</th>\n",
       "      <td>3</td>\n",
       "      <td>35000</td>\n",
       "      <td>2625.0</td>\n",
       "      <td>2.0</td>\n",
       "      <td>other</td>\n",
       "      <td>Hyderabad</td>\n",
       "      <td>1.0</td>\n",
       "      <td>Bachelors/Family</td>\n",
       "      <td>3</td>\n",
       "      <td>Contact Agent</td>\n",
       "      <td>3</td>\n",
       "      <td>5</td>\n",
       "    </tr>\n",
       "    <tr>\n",
       "      <th>4744</th>\n",
       "      <td>3</td>\n",
       "      <td>45000</td>\n",
       "      <td>2250.0</td>\n",
       "      <td>2.0</td>\n",
       "      <td>Gachibowli</td>\n",
       "      <td>Hyderabad</td>\n",
       "      <td>1.0</td>\n",
       "      <td>Family</td>\n",
       "      <td>2</td>\n",
       "      <td>Contact Agent</td>\n",
       "      <td>23</td>\n",
       "      <td>34</td>\n",
       "    </tr>\n",
       "    <tr>\n",
       "      <th>4745</th>\n",
       "      <td>2</td>\n",
       "      <td>15000</td>\n",
       "      <td>1500.0</td>\n",
       "      <td>2.0</td>\n",
       "      <td>other</td>\n",
       "      <td>Hyderabad</td>\n",
       "      <td>0.0</td>\n",
       "      <td>Bachelors</td>\n",
       "      <td>2</td>\n",
       "      <td>Contact Owner</td>\n",
       "      <td>4</td>\n",
       "      <td>5</td>\n",
       "    </tr>\n",
       "  </tbody>\n",
       "</table>\n",
       "<p>4733 rows × 12 columns</p>\n",
       "</div>"
      ],
      "text/plain": [
       "      BHK   Rent    Size  Area Type            Area Locality       City  \\\n",
       "0       2  10000  1100.0        0.0                    other    Kolkata   \n",
       "1       2  20000   800.0        0.0                    other    Kolkata   \n",
       "2       2  17000  1000.0        0.0  Salt Lake City Sector 2    Kolkata   \n",
       "3       2  10000   800.0        0.0                    other    Kolkata   \n",
       "4       2   7500  1275.0        2.0                    other    Kolkata   \n",
       "...   ...    ...     ...        ...                      ...        ...   \n",
       "4741    2  15000  1500.0        2.0                    other  Hyderabad   \n",
       "4742    3  29000  2000.0        0.0                    other  Hyderabad   \n",
       "4743    3  35000  2625.0        2.0                    other  Hyderabad   \n",
       "4744    3  45000  2250.0        2.0               Gachibowli  Hyderabad   \n",
       "4745    2  15000  1500.0        2.0                    other  Hyderabad   \n",
       "\n",
       "      Furnishing Status  Tenant Preferred  Bathroom Point of Contact  \\\n",
       "0                   0.0  Bachelors/Family         2    Contact Owner   \n",
       "1                   1.0  Bachelors/Family         1    Contact Owner   \n",
       "2                   1.0  Bachelors/Family         1    Contact Owner   \n",
       "3                   0.0  Bachelors/Family         1    Contact Owner   \n",
       "4                   0.0         Bachelors         1    Contact Owner   \n",
       "...                 ...               ...       ...              ...   \n",
       "4741                1.0  Bachelors/Family         2    Contact Owner   \n",
       "4742                1.0  Bachelors/Family         3    Contact Owner   \n",
       "4743                1.0  Bachelors/Family         3    Contact Agent   \n",
       "4744                1.0            Family         2    Contact Agent   \n",
       "4745                0.0         Bachelors         2    Contact Owner   \n",
       "\n",
       "      House Floor  Total Floors  \n",
       "0               0             2  \n",
       "1               1             3  \n",
       "2               1             3  \n",
       "3               1             2  \n",
       "4               1             2  \n",
       "...           ...           ...  \n",
       "4741            3             5  \n",
       "4742            1             4  \n",
       "4743            3             5  \n",
       "4744           23            34  \n",
       "4745            4             5  \n",
       "\n",
       "[4733 rows x 12 columns]"
      ]
     },
     "execution_count": 34,
     "metadata": {},
     "output_type": "execute_result"
    }
   ],
   "source": [
    "df"
   ]
  },
  {
   "cell_type": "code",
   "execution_count": 35,
   "id": "620bec76",
   "metadata": {},
   "outputs": [],
   "source": [
    "x = df.drop(columns=['Rent','Point of Contact'],axis=1)\n",
    "y = df['Rent']"
   ]
  },
  {
   "cell_type": "code",
   "execution_count": 36,
   "id": "056e21a3",
   "metadata": {},
   "outputs": [],
   "source": [
    "x= pd.get_dummies(x)"
   ]
  },
  {
   "cell_type": "code",
   "execution_count": 37,
   "id": "0e2461c7",
   "metadata": {},
   "outputs": [
    {
     "data": {
      "text/html": [
       "<div>\n",
       "<style scoped>\n",
       "    .dataframe tbody tr th:only-of-type {\n",
       "        vertical-align: middle;\n",
       "    }\n",
       "\n",
       "    .dataframe tbody tr th {\n",
       "        vertical-align: top;\n",
       "    }\n",
       "\n",
       "    .dataframe thead th {\n",
       "        text-align: right;\n",
       "    }\n",
       "</style>\n",
       "<table border=\"1\" class=\"dataframe\">\n",
       "  <thead>\n",
       "    <tr style=\"text-align: right;\">\n",
       "      <th></th>\n",
       "      <th>BHK</th>\n",
       "      <th>Size</th>\n",
       "      <th>Area Type</th>\n",
       "      <th>Furnishing Status</th>\n",
       "      <th>Bathroom</th>\n",
       "      <th>House Floor</th>\n",
       "      <th>Total Floors</th>\n",
       "      <th>Area Locality_Adyar, Sardar Patel Road</th>\n",
       "      <th>Area Locality_Ambattur</th>\n",
       "      <th>Area Locality_Andheri West</th>\n",
       "      <th>...</th>\n",
       "      <th>Area Locality_whitefield</th>\n",
       "      <th>City_Bangalore</th>\n",
       "      <th>City_Chennai</th>\n",
       "      <th>City_Delhi</th>\n",
       "      <th>City_Hyderabad</th>\n",
       "      <th>City_Kolkata</th>\n",
       "      <th>City_Mumbai</th>\n",
       "      <th>Tenant Preferred_Bachelors</th>\n",
       "      <th>Tenant Preferred_Bachelors/Family</th>\n",
       "      <th>Tenant Preferred_Family</th>\n",
       "    </tr>\n",
       "  </thead>\n",
       "  <tbody>\n",
       "    <tr>\n",
       "      <th>0</th>\n",
       "      <td>2</td>\n",
       "      <td>1100.0</td>\n",
       "      <td>0.0</td>\n",
       "      <td>0.0</td>\n",
       "      <td>2</td>\n",
       "      <td>0</td>\n",
       "      <td>2</td>\n",
       "      <td>0</td>\n",
       "      <td>0</td>\n",
       "      <td>0</td>\n",
       "      <td>...</td>\n",
       "      <td>0</td>\n",
       "      <td>0</td>\n",
       "      <td>0</td>\n",
       "      <td>0</td>\n",
       "      <td>0</td>\n",
       "      <td>1</td>\n",
       "      <td>0</td>\n",
       "      <td>0</td>\n",
       "      <td>1</td>\n",
       "      <td>0</td>\n",
       "    </tr>\n",
       "    <tr>\n",
       "      <th>1</th>\n",
       "      <td>2</td>\n",
       "      <td>800.0</td>\n",
       "      <td>0.0</td>\n",
       "      <td>1.0</td>\n",
       "      <td>1</td>\n",
       "      <td>1</td>\n",
       "      <td>3</td>\n",
       "      <td>0</td>\n",
       "      <td>0</td>\n",
       "      <td>0</td>\n",
       "      <td>...</td>\n",
       "      <td>0</td>\n",
       "      <td>0</td>\n",
       "      <td>0</td>\n",
       "      <td>0</td>\n",
       "      <td>0</td>\n",
       "      <td>1</td>\n",
       "      <td>0</td>\n",
       "      <td>0</td>\n",
       "      <td>1</td>\n",
       "      <td>0</td>\n",
       "    </tr>\n",
       "    <tr>\n",
       "      <th>2</th>\n",
       "      <td>2</td>\n",
       "      <td>1000.0</td>\n",
       "      <td>0.0</td>\n",
       "      <td>1.0</td>\n",
       "      <td>1</td>\n",
       "      <td>1</td>\n",
       "      <td>3</td>\n",
       "      <td>0</td>\n",
       "      <td>0</td>\n",
       "      <td>0</td>\n",
       "      <td>...</td>\n",
       "      <td>0</td>\n",
       "      <td>0</td>\n",
       "      <td>0</td>\n",
       "      <td>0</td>\n",
       "      <td>0</td>\n",
       "      <td>1</td>\n",
       "      <td>0</td>\n",
       "      <td>0</td>\n",
       "      <td>1</td>\n",
       "      <td>0</td>\n",
       "    </tr>\n",
       "    <tr>\n",
       "      <th>3</th>\n",
       "      <td>2</td>\n",
       "      <td>800.0</td>\n",
       "      <td>0.0</td>\n",
       "      <td>0.0</td>\n",
       "      <td>1</td>\n",
       "      <td>1</td>\n",
       "      <td>2</td>\n",
       "      <td>0</td>\n",
       "      <td>0</td>\n",
       "      <td>0</td>\n",
       "      <td>...</td>\n",
       "      <td>0</td>\n",
       "      <td>0</td>\n",
       "      <td>0</td>\n",
       "      <td>0</td>\n",
       "      <td>0</td>\n",
       "      <td>1</td>\n",
       "      <td>0</td>\n",
       "      <td>0</td>\n",
       "      <td>1</td>\n",
       "      <td>0</td>\n",
       "    </tr>\n",
       "    <tr>\n",
       "      <th>4</th>\n",
       "      <td>2</td>\n",
       "      <td>1275.0</td>\n",
       "      <td>2.0</td>\n",
       "      <td>0.0</td>\n",
       "      <td>1</td>\n",
       "      <td>1</td>\n",
       "      <td>2</td>\n",
       "      <td>0</td>\n",
       "      <td>0</td>\n",
       "      <td>0</td>\n",
       "      <td>...</td>\n",
       "      <td>0</td>\n",
       "      <td>0</td>\n",
       "      <td>0</td>\n",
       "      <td>0</td>\n",
       "      <td>0</td>\n",
       "      <td>1</td>\n",
       "      <td>0</td>\n",
       "      <td>1</td>\n",
       "      <td>0</td>\n",
       "      <td>0</td>\n",
       "    </tr>\n",
       "    <tr>\n",
       "      <th>...</th>\n",
       "      <td>...</td>\n",
       "      <td>...</td>\n",
       "      <td>...</td>\n",
       "      <td>...</td>\n",
       "      <td>...</td>\n",
       "      <td>...</td>\n",
       "      <td>...</td>\n",
       "      <td>...</td>\n",
       "      <td>...</td>\n",
       "      <td>...</td>\n",
       "      <td>...</td>\n",
       "      <td>...</td>\n",
       "      <td>...</td>\n",
       "      <td>...</td>\n",
       "      <td>...</td>\n",
       "      <td>...</td>\n",
       "      <td>...</td>\n",
       "      <td>...</td>\n",
       "      <td>...</td>\n",
       "      <td>...</td>\n",
       "      <td>...</td>\n",
       "    </tr>\n",
       "    <tr>\n",
       "      <th>4741</th>\n",
       "      <td>2</td>\n",
       "      <td>1500.0</td>\n",
       "      <td>2.0</td>\n",
       "      <td>1.0</td>\n",
       "      <td>2</td>\n",
       "      <td>3</td>\n",
       "      <td>5</td>\n",
       "      <td>0</td>\n",
       "      <td>0</td>\n",
       "      <td>0</td>\n",
       "      <td>...</td>\n",
       "      <td>0</td>\n",
       "      <td>0</td>\n",
       "      <td>0</td>\n",
       "      <td>0</td>\n",
       "      <td>1</td>\n",
       "      <td>0</td>\n",
       "      <td>0</td>\n",
       "      <td>0</td>\n",
       "      <td>1</td>\n",
       "      <td>0</td>\n",
       "    </tr>\n",
       "    <tr>\n",
       "      <th>4742</th>\n",
       "      <td>3</td>\n",
       "      <td>2000.0</td>\n",
       "      <td>0.0</td>\n",
       "      <td>1.0</td>\n",
       "      <td>3</td>\n",
       "      <td>1</td>\n",
       "      <td>4</td>\n",
       "      <td>0</td>\n",
       "      <td>0</td>\n",
       "      <td>0</td>\n",
       "      <td>...</td>\n",
       "      <td>0</td>\n",
       "      <td>0</td>\n",
       "      <td>0</td>\n",
       "      <td>0</td>\n",
       "      <td>1</td>\n",
       "      <td>0</td>\n",
       "      <td>0</td>\n",
       "      <td>0</td>\n",
       "      <td>1</td>\n",
       "      <td>0</td>\n",
       "    </tr>\n",
       "    <tr>\n",
       "      <th>4743</th>\n",
       "      <td>3</td>\n",
       "      <td>2625.0</td>\n",
       "      <td>2.0</td>\n",
       "      <td>1.0</td>\n",
       "      <td>3</td>\n",
       "      <td>3</td>\n",
       "      <td>5</td>\n",
       "      <td>0</td>\n",
       "      <td>0</td>\n",
       "      <td>0</td>\n",
       "      <td>...</td>\n",
       "      <td>0</td>\n",
       "      <td>0</td>\n",
       "      <td>0</td>\n",
       "      <td>0</td>\n",
       "      <td>1</td>\n",
       "      <td>0</td>\n",
       "      <td>0</td>\n",
       "      <td>0</td>\n",
       "      <td>1</td>\n",
       "      <td>0</td>\n",
       "    </tr>\n",
       "    <tr>\n",
       "      <th>4744</th>\n",
       "      <td>3</td>\n",
       "      <td>2250.0</td>\n",
       "      <td>2.0</td>\n",
       "      <td>1.0</td>\n",
       "      <td>2</td>\n",
       "      <td>23</td>\n",
       "      <td>34</td>\n",
       "      <td>0</td>\n",
       "      <td>0</td>\n",
       "      <td>0</td>\n",
       "      <td>...</td>\n",
       "      <td>0</td>\n",
       "      <td>0</td>\n",
       "      <td>0</td>\n",
       "      <td>0</td>\n",
       "      <td>1</td>\n",
       "      <td>0</td>\n",
       "      <td>0</td>\n",
       "      <td>0</td>\n",
       "      <td>0</td>\n",
       "      <td>1</td>\n",
       "    </tr>\n",
       "    <tr>\n",
       "      <th>4745</th>\n",
       "      <td>2</td>\n",
       "      <td>1500.0</td>\n",
       "      <td>2.0</td>\n",
       "      <td>0.0</td>\n",
       "      <td>2</td>\n",
       "      <td>4</td>\n",
       "      <td>5</td>\n",
       "      <td>0</td>\n",
       "      <td>0</td>\n",
       "      <td>0</td>\n",
       "      <td>...</td>\n",
       "      <td>0</td>\n",
       "      <td>0</td>\n",
       "      <td>0</td>\n",
       "      <td>0</td>\n",
       "      <td>1</td>\n",
       "      <td>0</td>\n",
       "      <td>0</td>\n",
       "      <td>1</td>\n",
       "      <td>0</td>\n",
       "      <td>0</td>\n",
       "    </tr>\n",
       "  </tbody>\n",
       "</table>\n",
       "<p>4733 rows × 80 columns</p>\n",
       "</div>"
      ],
      "text/plain": [
       "      BHK    Size  Area Type  Furnishing Status  Bathroom  House Floor  \\\n",
       "0       2  1100.0        0.0                0.0         2            0   \n",
       "1       2   800.0        0.0                1.0         1            1   \n",
       "2       2  1000.0        0.0                1.0         1            1   \n",
       "3       2   800.0        0.0                0.0         1            1   \n",
       "4       2  1275.0        2.0                0.0         1            1   \n",
       "...   ...     ...        ...                ...       ...          ...   \n",
       "4741    2  1500.0        2.0                1.0         2            3   \n",
       "4742    3  2000.0        0.0                1.0         3            1   \n",
       "4743    3  2625.0        2.0                1.0         3            3   \n",
       "4744    3  2250.0        2.0                1.0         2           23   \n",
       "4745    2  1500.0        2.0                0.0         2            4   \n",
       "\n",
       "      Total Floors  Area Locality_Adyar, Sardar Patel Road  \\\n",
       "0                2                                       0   \n",
       "1                3                                       0   \n",
       "2                3                                       0   \n",
       "3                2                                       0   \n",
       "4                2                                       0   \n",
       "...            ...                                     ...   \n",
       "4741             5                                       0   \n",
       "4742             4                                       0   \n",
       "4743             5                                       0   \n",
       "4744            34                                       0   \n",
       "4745             5                                       0   \n",
       "\n",
       "      Area Locality_Ambattur  Area Locality_Andheri West  ...  \\\n",
       "0                          0                           0  ...   \n",
       "1                          0                           0  ...   \n",
       "2                          0                           0  ...   \n",
       "3                          0                           0  ...   \n",
       "4                          0                           0  ...   \n",
       "...                      ...                         ...  ...   \n",
       "4741                       0                           0  ...   \n",
       "4742                       0                           0  ...   \n",
       "4743                       0                           0  ...   \n",
       "4744                       0                           0  ...   \n",
       "4745                       0                           0  ...   \n",
       "\n",
       "      Area Locality_whitefield  City_Bangalore  City_Chennai  City_Delhi  \\\n",
       "0                            0               0             0           0   \n",
       "1                            0               0             0           0   \n",
       "2                            0               0             0           0   \n",
       "3                            0               0             0           0   \n",
       "4                            0               0             0           0   \n",
       "...                        ...             ...           ...         ...   \n",
       "4741                         0               0             0           0   \n",
       "4742                         0               0             0           0   \n",
       "4743                         0               0             0           0   \n",
       "4744                         0               0             0           0   \n",
       "4745                         0               0             0           0   \n",
       "\n",
       "      City_Hyderabad  City_Kolkata  City_Mumbai  Tenant Preferred_Bachelors  \\\n",
       "0                  0             1            0                           0   \n",
       "1                  0             1            0                           0   \n",
       "2                  0             1            0                           0   \n",
       "3                  0             1            0                           0   \n",
       "4                  0             1            0                           1   \n",
       "...              ...           ...          ...                         ...   \n",
       "4741               1             0            0                           0   \n",
       "4742               1             0            0                           0   \n",
       "4743               1             0            0                           0   \n",
       "4744               1             0            0                           0   \n",
       "4745               1             0            0                           1   \n",
       "\n",
       "      Tenant Preferred_Bachelors/Family  Tenant Preferred_Family  \n",
       "0                                     1                        0  \n",
       "1                                     1                        0  \n",
       "2                                     1                        0  \n",
       "3                                     1                        0  \n",
       "4                                     0                        0  \n",
       "...                                 ...                      ...  \n",
       "4741                                  1                        0  \n",
       "4742                                  1                        0  \n",
       "4743                                  1                        0  \n",
       "4744                                  0                        1  \n",
       "4745                                  0                        0  \n",
       "\n",
       "[4733 rows x 80 columns]"
      ]
     },
     "execution_count": 37,
     "metadata": {},
     "output_type": "execute_result"
    }
   ],
   "source": [
    "x"
   ]
  },
  {
   "cell_type": "markdown",
   "id": "0dd1889c",
   "metadata": {},
   "source": [
    "### Model Building"
   ]
  },
  {
   "cell_type": "code",
   "execution_count": 38,
   "id": "9ad758b9",
   "metadata": {},
   "outputs": [],
   "source": [
    "from sklearn.model_selection import train_test_split\n",
    "xtrain, xtest, ytrain, ytest = train_test_split(x,y,test_size=0.2,random_state=1)"
   ]
  },
  {
   "cell_type": "code",
   "execution_count": 39,
   "id": "78c7c59d",
   "metadata": {},
   "outputs": [],
   "source": [
    "from sklearn.preprocessing import StandardScaler\n",
    "sc= StandardScaler()\n",
    "xtrain = sc.fit_transform(xtrain)\n",
    "xtest = sc.transform(xtest)\n",
    "y = np.log(y)"
   ]
  },
  {
   "cell_type": "code",
   "execution_count": 40,
   "id": "0f12f134",
   "metadata": {},
   "outputs": [],
   "source": [
    "from sklearn.linear_model import LinearRegression\n",
    "from sklearn.linear_model import Lasso\n",
    "from sklearn.metrics import r2_score, mean_absolute_error, mean_squared_error"
   ]
  },
  {
   "cell_type": "code",
   "execution_count": 41,
   "id": "78db9ff6",
   "metadata": {},
   "outputs": [],
   "source": [
    "def mymodel(model):\n",
    "    #model creation\n",
    "    model.fit(xtrain, ytrain)\n",
    "    ypred = model.predict(xtest)\n",
    "    \n",
    "    #checking bias & Variance\n",
    "    train = model.score(xtrain, ytrain)\n",
    "    test = model.score(xtest, ytest)\n",
    "    print(f\"Training Accuracy : {train}\\nTesting Accuracy : {test}\\n\\n\")\n",
    "    \n",
    "    r2 = r2_score(ytest, ypred)\n",
    "    mae = mean_absolute_error(ytest,ypred)\n",
    "    mse = mean_squared_error(ytest,ypred)\n",
    "    rmse = np.sqrt(mse)\n",
    "    print(f'r2 score: {r2}, mae: {mae}, rmse: {rmse}')\n",
    "    \n",
    "    return model"
   ]
  },
  {
   "cell_type": "markdown",
   "id": "d174084e",
   "metadata": {},
   "source": [
    "### Linear Regression"
   ]
  },
  {
   "cell_type": "code",
   "execution_count": 42,
   "id": "d23af8d5",
   "metadata": {
    "scrolled": true
   },
   "outputs": [
    {
     "name": "stdout",
     "output_type": "stream",
     "text": [
      "Training Accuracy : 0.6652300010985821\n",
      "Testing Accuracy : 0.669098674063467\n",
      "\n",
      "\n",
      "r2 score: 0.669098674063467, mae: 15542.254413255148, rmse: 26544.171574363816\n"
     ]
    }
   ],
   "source": [
    "linreg = mymodel(LinearRegression())"
   ]
  },
  {
   "cell_type": "markdown",
   "id": "bbb35c14",
   "metadata": {},
   "source": [
    "### Gradient Boost->best accuracy"
   ]
  },
  {
   "cell_type": "code",
   "execution_count": 44,
   "id": "e2f5552b",
   "metadata": {},
   "outputs": [
    {
     "name": "stdout",
     "output_type": "stream",
     "text": [
      "Training Accuracy : 0.8533889817713092\n",
      "Testing Accuracy : 0.861520745059328\n",
      "\n",
      "\n",
      "r2 score: 0.861520745059328, mae: 8723.533303213133, rmse: 17171.66001734076\n"
     ]
    }
   ],
   "source": [
    "from sklearn.ensemble import GradientBoostingRegressor\n",
    "gbr = mymodel(GradientBoostingRegressor())"
   ]
  },
  {
   "cell_type": "markdown",
   "id": "19cdbad1",
   "metadata": {},
   "source": [
    "#### Gradient Boost gives the higest accuracy (86%) and it has low bias and low variance as well"
   ]
  },
  {
   "cell_type": "code",
   "execution_count": 45,
   "id": "df5e8933",
   "metadata": {},
   "outputs": [],
   "source": [
    "from sklearn.model_selection import GridSearchCV\n",
    "from sklearn.ensemble import RandomForestRegressor"
   ]
  },
  {
   "cell_type": "code",
   "execution_count": 46,
   "id": "52b4e36c",
   "metadata": {},
   "outputs": [
    {
     "data": {
      "text/plain": [
       "GridSearchCV(cv=5, estimator=GradientBoostingRegressor(), n_jobs=-1,\n",
       "             param_grid={'min_samples_leaf': [3, 4, 5, 6, 7],\n",
       "                         'n_estimators': [60, 80, 100, 120, 140]})"
      ]
     },
     "execution_count": 46,
     "metadata": {},
     "output_type": "execute_result"
    }
   ],
   "source": [
    "estimator = GradientBoostingRegressor()\n",
    "param_grid = { \n",
    "        \"n_estimators\"      : [60,80,100,120,140],\n",
    "        \"min_samples_leaf\"  : [3,4,5,6,7],\n",
    "        }\n",
    "\n",
    "grid = GridSearchCV(estimator, param_grid, n_jobs=-1, cv=5)\n",
    "grid.fit(xtrain, ytrain)"
   ]
  },
  {
   "cell_type": "code",
   "execution_count": 47,
   "id": "840370e3",
   "metadata": {},
   "outputs": [
    {
     "data": {
      "text/plain": [
       "{'min_samples_leaf': 3, 'n_estimators': 120}"
      ]
     },
     "execution_count": 47,
     "metadata": {},
     "output_type": "execute_result"
    }
   ],
   "source": [
    "grid.best_params_"
   ]
  },
  {
   "cell_type": "code",
   "execution_count": 48,
   "id": "735c78ae",
   "metadata": {},
   "outputs": [
    {
     "name": "stdout",
     "output_type": "stream",
     "text": [
      "Training Accuracy : 0.8511026209511766\n",
      "Testing Accuracy : 0.85884235692294\n",
      "\n",
      "\n",
      "r2 score: 0.85884235692294, mae: 8763.217394690208, rmse: 17336.92703096648\n"
     ]
    }
   ],
   "source": [
    "from sklearn.ensemble import GradientBoostingRegressor\n",
    "gbr1 = mymodel(GradientBoostingRegressor(min_samples_leaf=3, n_estimators=120))"
   ]
  },
  {
   "cell_type": "code",
   "execution_count": 49,
   "id": "e912f2d0",
   "metadata": {},
   "outputs": [
    {
     "name": "stdout",
     "output_type": "stream",
     "text": [
      "Training Accuracy : 0.8533889817713092\n",
      "Testing Accuracy : 0.8608516750087245\n",
      "\n",
      "\n",
      "r2 score: 0.8608516750087245, mae: 8752.425926956425, rmse: 17213.092935871227\n"
     ]
    }
   ],
   "source": [
    "gbr2 = mymodel(GradientBoostingRegressor())\n"
   ]
  },
  {
   "cell_type": "markdown",
   "id": "cea3014b",
   "metadata": {},
   "source": [
    "### Conclusion:"
   ]
  },
  {
   "cell_type": "markdown",
   "id": "793dfbab",
   "metadata": {},
   "source": [
    "#This project predicts the Rent of the House based and final model selected in this \"Gradient Boosting Regressor\" gives us the accuracy (r2_score of 0.861) "
   ]
  },
  {
   "cell_type": "code",
   "execution_count": null,
   "id": "2c6dcfd0",
   "metadata": {},
   "outputs": [],
   "source": []
  }
 ],
 "metadata": {
  "kernelspec": {
   "display_name": "Python 3",
   "language": "python",
   "name": "python3"
  },
  "language_info": {
   "codemirror_mode": {
    "name": "ipython",
    "version": 3
   },
   "file_extension": ".py",
   "mimetype": "text/x-python",
   "name": "python",
   "nbconvert_exporter": "python",
   "pygments_lexer": "ipython3",
   "version": "3.8.8"
  }
 },
 "nbformat": 4,
 "nbformat_minor": 5
}
